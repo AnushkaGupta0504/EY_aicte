{
 "cells": [
  {
   "cell_type": "code",
   "execution_count": 14,
   "id": "15e9f431",
   "metadata": {},
   "outputs": [
    {
     "name": "stdout",
     "output_type": "stream",
     "text": [
      "Mean Squared Error: 15560.369428213175\n",
      "R² Score: 0.9988634103281181\n"
     ]
    }
   ],
   "source": [
    "# 1. Import Libraries\n",
    "import pandas as pd\n",
    "import numpy as np\n",
    "import pickle\n",
    "from sklearn.model_selection import train_test_split\n",
    "from sklearn.ensemble import RandomForestRegressor\n",
    "from sklearn.metrics import mean_squared_error, r2_score\n",
    "\n",
    "# 2. Load the raw data\n",
    "df = pd.read_csv(\"Electric_Vehicle_Population_By_County.csv\")\n",
    "df.head()\n",
    "\n",
    "# 3. Data Preprocessing\n",
    "df.dropna(subset=[\"County\", \"State\"], inplace=True)\n",
    "\n",
    "for col in [\n",
    "    \"Battery Electric Vehicles (BEVs)\",\n",
    "    \"Plug-In Hybrid Electric Vehicles (PHEVs)\",\n",
    "    \"Electric Vehicle (EV) Total\",\n",
    "    \"Non-Electric Vehicle Total\",\n",
    "    \"Total Vehicles\"\n",
    "]:\n",
    "    df[col] = df[col].str.replace(\",\", \"\").astype(int)\n",
    "\n",
    "df[\"Date\"] = pd.to_datetime(df[\"Date\"])\n",
    "df[\"Year\"] = df[\"Date\"].dt.year\n",
    "df[\"Month\"] = df[\"Date\"].dt.month\n",
    "\n",
    "df = pd.get_dummies(df, columns=[\"County\", \"State\", \"Vehicle Primary Use\"], drop_first=True)\n",
    "\n",
    "# Save the preprocessed data\n",
    "df.to_csv(\"preprocessed_ev_data.csv\", index=False)\n",
    "\n",
    "# 4. Define features and target\n",
    "X = df.drop(columns=[\"Electric Vehicle (EV) Total\", \"Date\"])\n",
    "y = df[\"Electric Vehicle (EV) Total\"]\n",
    "\n",
    "\n",
    "# 5. Train-test split\n",
    "X_train, X_test, y_train, y_test = train_test_split(X, y, test_size=0.2, random_state=42)\n",
    "\n",
    "# 6. Train Random Forest Regressor\n",
    "model = RandomForestRegressor(n_estimators=100, random_state=42)\n",
    "model.fit(X_train, y_train)\n",
    "\n",
    "# 7. Evaluation\n",
    "y_pred = model.predict(X_test)\n",
    "mse = mean_squared_error(y_test, y_pred)\n",
    "r2 = r2_score(y_test, y_pred)\n",
    "\n",
    "print(\"Mean Squared Error:\", mse)\n",
    "print(\"R² Score:\", r2)\n",
    "\n",
    "# 8. Save the trained model\n",
    "with open(\"forecasting_ev_model.pkl\", \"wb\") as f:\n",
    "    pickle.dump(model, f)\n",
    "\n",
    "\n",
    "\n",
    "\n",
    "\n",
    "\n",
    "\n"
   ]
  }
 ],
 "metadata": {
  "kernelspec": {
   "display_name": "Python 3",
   "language": "python",
   "name": "python3"
  },
  "language_info": {
   "codemirror_mode": {
    "name": "ipython",
    "version": 3
   },
   "file_extension": ".py",
   "mimetype": "text/x-python",
   "name": "python",
   "nbconvert_exporter": "python",
   "pygments_lexer": "ipython3",
   "version": "3.13.5"
  }
 },
 "nbformat": 4,
 "nbformat_minor": 5
}
